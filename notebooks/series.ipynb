{
 "cells": [
  {
   "cell_type": "markdown",
   "id": "2fb89fed",
   "metadata": {},
   "source": [
    "# Series\n",
    "So far we have only considered individual data sets. Often data sets are given in a series (e.g. multiple snapshots of a simulation, multiple exposures in a survey). Loading this as a series provides convenient access to all contained objects.\n",
    "\n",
    "Here we use the more specific `ArepoSimulation` class as we load such a simulation."
   ]
  },
  {
   "cell_type": "code",
   "execution_count": null,
   "id": "bfb4e4e2",
   "metadata": {},
   "outputs": [],
   "source": [
    "from scida.convenience import load"
   ]
  },
  {
   "cell_type": "code",
   "execution_count": null,
   "id": "4a577988",
   "metadata": {},
   "outputs": [],
   "source": [
    "series = load(\"TNGvariation_simulation\")"
   ]
  },
  {
   "cell_type": "code",
   "execution_count": null,
   "id": "be033da6",
   "metadata": {},
   "outputs": [],
   "source": [
    "snp = series.get_dataset(redshift=2.0)\n",
    "snp.header[\"Redshift\"]"
   ]
  }
 ],
 "metadata": {
  "kernelspec": {
   "display_name": "scida",
   "language": "python",
   "name": "scida"
  },
  "language_info": {
   "codemirror_mode": {
    "name": "ipython",
    "version": 3
   },
   "file_extension": ".py",
   "mimetype": "text/x-python",
   "name": "python",
   "nbconvert_exporter": "python",
   "pygments_lexer": "ipython3",
   "version": "3.9.2"
  }
 },
 "nbformat": 4,
 "nbformat_minor": 5
}
