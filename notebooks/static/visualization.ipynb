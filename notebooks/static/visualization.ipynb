{
 "cells": [
  {
   "cell_type": "code",
   "execution_count": null,
   "id": "26946d45",
   "metadata": {},
   "outputs": [],
   "source": [
    "import dask\n",
    "from dask.distributed import LocalCluster, Client\n",
    "cluster = LocalCluster(n_workers=2, threads_per_worker=10, memory_limit=\"8GB\", dashboard_address=\":8832\")\n",
    "dask.config.set({\"array.chunk-size\": \"512MiB\"})\n",
    "client = Client(cluster)"
   ]
  },
  {
   "cell_type": "code",
   "execution_count": null,
   "id": "337f0f74",
   "metadata": {},
   "outputs": [],
   "source": [
    "from scida import load\n",
    "from scida.convenience import get_testdata\n",
    "gpath = get_testdata(\"TNG50-2_group\")\n",
    "dts = load(\"testdata://TNG50-2_snapshot\", catalog=gpath)"
   ]
  },
  {
   "cell_type": "code",
   "execution_count": null,
   "id": "a029047f",
   "metadata": {},
   "outputs": [],
   "source": [
    "ddf = dts.data[\"PartType0\"].get_dataframe([\"Coordinates0\", \"Coordinates1\", \"Masses\"])"
   ]
  },
  {
   "cell_type": "code",
   "execution_count": null,
   "id": "1f568adb",
   "metadata": {},
   "outputs": [],
   "source": [
    "import holoviews as hv\n",
    "hv.extension(\"bokeh\")"
   ]
  },
  {
   "cell_type": "code",
   "execution_count": null,
   "id": "2de2c25b",
   "metadata": {},
   "outputs": [],
   "source": [
    "import holoviews.operation.datashader as hd\n",
    "import datashader as ds\n",
    "import dask.array as da\n",
    "\n",
    "shaded = hd.datashade(hv.Points(ddf, [\"Coordinates0\", \"Coordinates1\"]), cmap=\"viridis\", interpolation=\"linear\",\n",
    "                     aggregator=ds.sum(\"Masses\"), x_sampling=5, y_sampling=5)\n",
    "hd.dynspread(shaded, threshold=0.9, max_px=50).opts(bgcolor=\"black\", xaxis=None, yaxis=None, width=500, height=500)"
   ]
  }
 ],
 "metadata": {
  "kernelspec": {
   "display_name": "scida",
   "language": "python",
   "name": "scida"
  },
  "language_info": {
   "codemirror_mode": {
    "name": "ipython",
    "version": 3
   },
   "file_extension": ".py",
   "mimetype": "text/x-python",
   "name": "python",
   "nbconvert_exporter": "python",
   "pygments_lexer": "ipython3"
  }
 },
 "nbformat": 4,
 "nbformat_minor": 5
}
